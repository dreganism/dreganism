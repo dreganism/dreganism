{
  "nbformat": 4,
  "nbformat_minor": 0,
  "metadata": {
    "colab": {
      "provenance": [],
      "authorship_tag": "ABX9TyPR132nVueT/brtFbvtRfFX",
      "include_colab_link": true
    },
    "kernelspec": {
      "name": "python3",
      "display_name": "Python 3"
    },
    "language_info": {
      "name": "python"
    }
  },
  "cells": [
    {
      "cell_type": "markdown",
      "metadata": {
        "id": "view-in-github",
        "colab_type": "text"
      },
      "source": [
        "<a href=\"https://colab.research.google.com/github/dreganism/dreganism/blob/main/G7_Lab2.ipynb\" target=\"_parent\"><img src=\"https://colab.research.google.com/assets/colab-badge.svg\" alt=\"Open In Colab\"/></a>"
      ]
    },
    {
      "cell_type": "markdown",
      "source": [
        "# Question 1 - Explain the following terms:\n",
        "\n",
        "## A. Cryptography\n",
        "Cryptography is the art and science of securing messages by encoding (encrypting)them with mathematical algorithms to protect them from unauthorized access or modification [1] - only the sender and receiver can understand the message since they have the key to decipher the encoded message. An eavesdropper may know the message is being transmitted, and may even copy the secured message, but the contents remain unknown since they were encoded with a secret key that the eavesdropper does not have. Cryptography provides confidentiality, integrity, and authentication.\n",
        "\n",
        "## B. Encryption\n",
        "Encryption is a method of securing information by converting it into a code to prevent unauthorized access. Before a message is sent, it is encrypted with an encryption key (if the intent is to protect CIA of the message). The process of encryption involves using an algorithm to transform plain text data into encrypted code [2], called ciphertext, which can only be deciphered and understood with a decryption key.\n",
        "\n",
        "Encryption is commonly used to protect sensitive information[3] such as financial transactions, personal communication, and confidential business information. The security of encryption lies in the fact that even if an attacker gains access to the encrypted data, they cannot interpret or make use of it without the decryption key.\n",
        "\n",
        "There are various types of encryption algorithms, such as symmetric encryption[4], where the identical key is used for encryption and decryption, and asymmetric encryption, where different keys are used for encryption and decryption. Some commonly used encryption algorithms are AES, RSA, and DES. It is important to note that encryption does not guarantee absolute security, as encryption algorithms can become vulnerable to attacks over time and the security of encrypted information can also be compromised if the decryption key is lost or stolen.\n",
        "\n",
        "## C. Plain Text\n",
        "Plaintext is unencoded data (usually ordinary readable text before it’s encryption into ciphertext) that does not provide confidentiality, integrity, and access authorization for the data in the event an adversary intercepts it.\n",
        "## D. Cipher Text\n",
        "Cipher text is encrypted plaintext.  \n",
        "\n",
        "## E. Decryption\n",
        "Decryption is the reverse of encryption in that it uses the encryption key to decipher (decrypt) ciphertext and render it back in its original plaintext form.\n",
        "\n",
        "## F. Double Strength Encryption\n",
        "Double encryption is where two or more independent layers of encryption are used[5] to protect against compromises of any one layer of encryption. Using two layers of encryption mitigates threats that come with encrypting data.\n",
        " \n",
        "## G. Hybrid Encryption\n",
        "Hybrid encryption is a method of encoding and decoding messages that blends the speed and convenience of a public asymmetric encryption approach with the effectiveness of a private symmetric encryption arrangement.  Using this methodology, the sender generates a private key, encrypts it using a public key algorithm, and then encrypts the entire message (including the already-encrypted private key) with the original symmetric key[6]. The encoded ciphertext can only be decoded if the recipient knows the private key the sender originally generated.\n",
        "\n",
        "\n",
        "# References\n",
        "\n",
        "[1] \"What is cryptography? How algorithms keep information secret and safe\". Fruhlinger, Josh.  Retrieved from https://www.csoonline.com/article/3583976/what-is-cryptography-how-algorithms-keep-information-secret-and-safe.html February 10, 2023.\n",
        "\n",
        "[2,3,4] “SURVEILLANCE SELF-DEFENSE”. Authored by ssd.eff.org (Electronic Frontier Foundation). Retrieved from https://ssd.eff.org/module/deep-dive-end-end-encryption-how-do-public-key-encryption-systems-work February 11, 2023.\n",
        "\n",
        "[5] “Double encryption”. Lanfear, T., Richins, J, Berry C., David. Retrieved from https://learn.microsoft.com/en-us/azure/security/fundamentals/double-encryption  February 11, 2023.\n",
        "\n",
        "[6] “What does hybrid encryption mean?” Rouse, M. Retrieved from https://www.techopedia.com/definition/1779/hybrid-encryption February 11, 2023.\n",
        "\n",
        "\n",
        "\n"
      ],
      "metadata": {
        "id": "fHFqdVcc3fgU"
      }
    },
    {
      "cell_type": "markdown",
      "source": [
        "# Question 2 - Write phython code to implement the shift cipher using two functions: one to encrypt, one to decrypt. "
      ],
      "metadata": {
        "id": "5Zz-DH_RCR9i"
      }
    },
    {
      "cell_type": "code",
      "source": [
        "# We reuse the encrypt funcion to provide both encryption and decryption functionality.\n",
        "\n",
        "import string\n",
        "   \n",
        "def encrypt(message, shift=0, replace='', alphabet=string.ascii_letters):\n",
        "    \n",
        "    # Define the input-output mapping\n",
        "    size = len(alphabet)\n",
        "    code = {a:alphabet[(index+shift) % size] for index, a in enumerate(alphabet)}\n",
        "    # Encrypt the message with mapping\n",
        "    return ''.join([code.get(letter, replace) for letter in message])\n",
        " \n",
        "message = input('Message to Encrypt: ')\n",
        "\n",
        "encrypted = encrypt(message, shift=3, replace=' ')\n",
        "decrypted = encrypt(encrypted, shift=-3, replace=' ')\n",
        "\n",
        "print('Your encrypted ciphertext is: ', encrypted)\n",
        "print('Decrypting your ciphertext yeilds: ', decrypted)"
      ],
      "metadata": {
        "id": "DqOukWxC3q43"
      },
      "execution_count": null,
      "outputs": []
    },
    {
      "cell_type": "markdown",
      "source": [
        "## Question 3\n",
        "### A) What is a hash function in cryptography?\n",
        "In cryptography, a hash function is a mathematical function that takes an input (or \"message\") and returns a fixed-size string of characters, which is typically a \"digest\" that is unique to the unique values of the input. The idea behind a hash function is to take an input, perform some mathematical operations on it, and produce an output (the \"hash\") that has certain properties. These properties include:\n",
        "\n",
        "1.\tDeterministic: Given a specific input, the same output will always be produced.\n",
        "\n",
        "2.\tFixed-Size Output: The output is of a fixed length, regardless of the size of the input.\n",
        "\n",
        "3.\tOne-Way: Given the hash value, it is computationally infeasible to obtain the original input.\n",
        "\n",
        "4.\tCollision-Resistant: It is difficult to find two different inputs that produce the same hash value (also known as a \"collision\").\n",
        "\n",
        "Hash functions are widely used in cryptography for tasks such as digital signatures, message authentication codes, and key derivation functions. A common use of hash functions is to verify the integrity of data, for example, to ensure that a file has not been modified during transmission. To do this, the hash of the file is computed and then sent along with the file. The recipient can then compute the hash of the received file and compare it to the original hash. If they match, the recipient can be confident that the file has not been altered in transit."
      ],
      "metadata": {
        "id": "HwVP-7oY3xbk"
      }
    },
    {
      "cell_type": "code",
      "source": [
        "#Question 3. B) Write a hash function in Python to hash the message given\n",
        "import hashlib\n",
        "\n",
        "def hash_message(message):\n",
        "\n",
        "    sha256 = hashlib.sha256()                      # Create SHA-256 hash object\n",
        "    message_bytes = message.encode('utf-8')        # Encode message to bytes\n",
        "    sha256.update(message_bytes)   # Update the hash object with the message bytes\n",
        "    hash_hex = sha256.hexdigest() # Get the hexadecimal representation of the hash\n",
        "\n",
        "    return hash_hex\n",
        "\n",
        "message = \"Information Systems Security Engineering and Management\"\n",
        "hash_value = hash_message(message)\n",
        "print(\"Hash value of the message:\", hash_value)\n"
      ],
      "metadata": {
        "id": "NEomcOhe6QQX",
        "colab": {
          "base_uri": "https://localhost:8080/"
        },
        "outputId": "e85a8d78-20ba-486a-fddb-1f6591d663a1"
      },
      "execution_count": 16,
      "outputs": [
        {
          "output_type": "stream",
          "name": "stdout",
          "text": [
            "Hash value of the message: ea2b9ab09f3ab6aefb8dbd8d93a511a22f7f8616872d78d1b8f81550b932e063\n"
          ]
        }
      ]
    },
    {
      "cell_type": "code",
      "source": [
        "# Question 3. C) Validate message hash has not changed over time given that the\n",
        "# message is the same (use code from 3. B)\n",
        "\n",
        "# I. The original Hash value of the message: ea2b9ab09f3ab6aefb8dbd8d93a511a22f7f8616872d78d1b8f81550b932e063\n",
        "\n",
        "# II. If message is NOT altered, the hash remains the same, but by uppercasing the \n",
        "\n",
        "# last letter in the message, the hash changes - see next line for changed hash.\n",
        "\n",
        "# III. Hash value of the message: 804c6c6dc627b03e86610a1b65538eed5165b881b6e62abe68452b8250d3ad26\n",
        "\n",
        "# IV. Hash reverts to original after the message is restored to it's orignal state.\n",
        "\n",
        "# Hash value of the restored message: ea2b9ab09f3ab6aefb8dbd8d93a511a22f7f8616872d78d1b8f81550b932e063\n",
        "\n",
        "\n",
        "\n",
        "\n",
        "\n",
        "\n",
        "\n",
        "\n"
      ],
      "metadata": {
        "id": "ujICTzvV6b9Y"
      },
      "execution_count": 25,
      "outputs": []
    }
  ]
}